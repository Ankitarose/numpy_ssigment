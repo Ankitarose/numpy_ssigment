{
 "cells": [
  {
   "cell_type": "code",
   "execution_count": null,
   "id": "a105be3c-e3c3-4f5a-ab28-fcbe0b4d1e29",
   "metadata": {},
   "outputs": [],
   "source": [
    "#Numpy Assignment\n",
    "'''1. What is a Python library? Why do we use Python libraries?\n",
    "Ans :  Python library is simply a collection of codes or modules of codes that we can use in a program for specific operations and for data analysis.'''"
   ]
  },
  {
   "cell_type": "code",
   "execution_count": null,
   "id": "56f8a76d-f77f-48a9-ba55-d07a259284eb",
   "metadata": {},
   "outputs": [],
   "source": [
    "'''2. What is the ^ifference between Numpy array and List?\n",
    "1. it is faster than list\n",
    "2. It stores homogenous data an d list stores hetrogenous data\n",
    "3. it can crete N-dimensional array using Numpy.array() \n",
    "4. It is used for scientific-computation \n",
    "5. it stores in sequential manner and list stores data in random manner"
   ]
  },
  {
   "cell_type": "code",
   "execution_count": 13,
   "id": "4998c295-2c11-4db5-a835-c18e1c55f91f",
   "metadata": {},
   "outputs": [
    {
     "data": {
      "text/plain": [
       "array([[ 1,  2,  3,  4],\n",
       "       [ 5,  6,  7,  8],\n",
       "       [ 9, 10, 11, 12]])"
      ]
     },
     "execution_count": 13,
     "metadata": {},
     "output_type": "execute_result"
    }
   ],
   "source": [
    "'''3. Find the shape, size and dimension of the following array?\n",
    "[[1, 2, 3, 4]\n",
    "[5, 6, 7, 8],\n",
    "[9, 10, 11, 12]]'''\n",
    "import numpy as np\n",
    "\n",
    "arr = np.array([[1,2,3,4],[5,6,7,8],[9,10,11,12]])\n",
    "arr\n",
    "    "
   ]
  },
  {
   "cell_type": "code",
   "execution_count": 14,
   "id": "ca6dee69-cac5-4b39-916d-662caaaadb35",
   "metadata": {},
   "outputs": [
    {
     "data": {
      "text/plain": [
       "12"
      ]
     },
     "execution_count": 14,
     "metadata": {},
     "output_type": "execute_result"
    }
   ],
   "source": [
    "np.size(arr)"
   ]
  },
  {
   "cell_type": "code",
   "execution_count": 15,
   "id": "572f0efb-1769-4d8c-842a-dff9a3975c73",
   "metadata": {},
   "outputs": [
    {
     "data": {
      "text/plain": [
       "(3, 4)"
      ]
     },
     "execution_count": 15,
     "metadata": {},
     "output_type": "execute_result"
    }
   ],
   "source": [
    "np.shape(arr)"
   ]
  },
  {
   "cell_type": "code",
   "execution_count": 5,
   "id": "098f4e25-d03a-463d-8ed8-f982b8d2452c",
   "metadata": {},
   "outputs": [
    {
     "data": {
      "text/plain": [
       "2"
      ]
     },
     "execution_count": 5,
     "metadata": {},
     "output_type": "execute_result"
    }
   ],
   "source": [
    "arr.ndim"
   ]
  },
  {
   "cell_type": "code",
   "execution_count": 16,
   "id": "de653157-a047-4744-a8b6-551a5a489c52",
   "metadata": {},
   "outputs": [
    {
     "data": {
      "text/plain": [
       "array([1, 2, 3, 4])"
      ]
     },
     "execution_count": 16,
     "metadata": {},
     "output_type": "execute_result"
    }
   ],
   "source": [
    "'''4. Write python code to access the first row of the following array?'''\n",
    "arr = np.array([[1,2,3,4],[5,6,7,8],[9,10,11,12]])\n",
    "arr[0]"
   ]
  },
  {
   "cell_type": "code",
   "execution_count": 17,
   "id": "27d43841-662e-429d-abc6-d06e4a5a045a",
   "metadata": {},
   "outputs": [
    {
     "data": {
      "text/plain": [
       "12"
      ]
     },
     "execution_count": 17,
     "metadata": {},
     "output_type": "execute_result"
    }
   ],
   "source": [
    "'''5. How do you access the element at the third row and fourth column from the given numpy array?'''\n",
    "arr = np.array([[1,2,3,4],[5,6,7,8],[9,10,11,12]])\n",
    "arr[2][3]"
   ]
  },
  {
   "cell_type": "code",
   "execution_count": 18,
   "id": "484910bf-d0c9-4fde-bbd2-9acdcb21a0ea",
   "metadata": {},
   "outputs": [
    {
     "data": {
      "text/plain": [
       "array([6, 8])"
      ]
     },
     "execution_count": 18,
     "metadata": {},
     "output_type": "execute_result"
    }
   ],
   "source": [
    "'''6. Write code to extract all odd-indexed elements from the given numpy array?'''\n",
    "arr = np.array([[1,2,3,4],[5,6,7,8],[9,10,11,12]])\n",
    "arr[1,[1,3]]"
   ]
  },
  {
   "cell_type": "code",
   "execution_count": 45,
   "id": "596b9e9c-aadd-4fa5-a7ae-507989b50c37",
   "metadata": {},
   "outputs": [
    {
     "data": {
      "text/plain": [
       "array([[0.62821458, 0.8958151 , 0.73862402],\n",
       "       [0.9766178 , 0.70545725, 0.04514112],\n",
       "       [0.83125043, 0.24935643, 0.20486175]])"
      ]
     },
     "execution_count": 46,
     "metadata": {},
     "output_type": "execute_result"
    }
   ],
   "source": [
    "'''7. How can you generate a ran^om 3x3 matrix with values between 0 an^ 1 ?'''\n",
    "import random\n",
    "arr = np.random.rand(3,3)\n",
    "arr"
   ]
  },
  {
   "cell_type": "code",
   "execution_count": null,
   "id": "76fe5da4-5d3c-4c68-9c72-0dec9a05b372",
   "metadata": {},
   "outputs": [],
   "source": [
    "'''8. Describe the ^ifference between np.ran^om.ran^ an^ np.ran^om.ran^n?'''\n",
    "'''Ans : np.random.rand is produced  numbers for uniform distribution  and np.random.randn for normal doistribution"
   ]
  },
  {
   "cell_type": "code",
   "execution_count": 60,
   "id": "7a7d7456-69dc-4b5d-9f20-a49a9d6202bb",
   "metadata": {},
   "outputs": [
    {
     "data": {
      "text/plain": [
       "array([[[ 1,  2,  3,  4],\n",
       "        [ 5,  6,  7,  8],\n",
       "        [ 9, 10, 11, 12]]])"
      ]
     },
     "execution_count": 60,
     "metadata": {},
     "output_type": "execute_result"
    }
   ],
   "source": [
    "'''9. Write co^e to increase the dimension of the following array?\n",
    "[[1, 2, 3, 4]\n",
    "[5, 6, 7, 8],\n",
    "[9, 10, 11, 12]]'''\n",
    "\n",
    "arr = np.array([[1,2,3,4],[5,6,7,8],[9,10,11,12]])\n",
    "a= np.expand_dims(arr,axis =0)\n",
    "a.ndim\n",
    "a"
   ]
  },
  {
   "cell_type": "code",
   "execution_count": 61,
   "id": "25f81676-457d-4371-91c2-669636ca7ea3",
   "metadata": {},
   "outputs": [
    {
     "data": {
      "text/plain": [
       "(1, 3, 4)"
      ]
     },
     "execution_count": 61,
     "metadata": {},
     "output_type": "execute_result"
    }
   ],
   "source": [
    "np.shape(a)"
   ]
  },
  {
   "cell_type": "code",
   "execution_count": null,
   "id": "584706f8-8388-4516-8758-ef703f122ee0",
   "metadata": {},
   "outputs": [],
   "source": [
    "'''10.10. How to transpose the following array in NumPy?\n",
    "[[1, 2, 3, 4]\n",
    "[5, 6, 7, 8],\n",
    "[9, 10, 11, 12]]"
   ]
  },
  {
   "cell_type": "code",
   "execution_count": 63,
   "id": "1268bda8-c1a8-4387-b622-ad4fbbe45ab8",
   "metadata": {},
   "outputs": [
    {
     "data": {
      "text/plain": [
       "array([[ 1,  5,  9],\n",
       "       [ 2,  6, 10],\n",
       "       [ 3,  7, 11],\n",
       "       [ 4,  8, 12]])"
      ]
     },
     "execution_count": 63,
     "metadata": {},
     "output_type": "execute_result"
    }
   ],
   "source": [
    "arr = np.array([[1,2,3,4],[5,6,7,8],[9,10,11,12]])\n",
    "a=np.transpose(arr)\n",
    "a"
   ]
  },
  {
   "cell_type": "code",
   "execution_count": null,
   "id": "48dfcf36-2cd1-4ebd-915b-f12d2197a345",
   "metadata": {},
   "outputs": [],
   "source": [
    "'''11. Consi^er the following matrix:\n",
    "Matrix A2 [[1, 2, 3, 4] [5, 6, 7, 8],[9, 10, 11, 12]]\n",
    "Matrix B2 [[1, 2, 3, 4] [5, 6, 7, 8],[9, 10, 11, 12]]\n",
    "Perform the following operation using Python1\n",
    "1 Index wise multiplicationA1'\n",
    "2. Matix multiplicatio'\n",
    "+ Add both the maticK\n",
    "-+ Subtact matix B om \n",
    "+ Diide Matix B by A'''"
   ]
  },
  {
   "cell_type": "code",
   "execution_count": 72,
   "id": "28d0ec39-210f-4185-ac82-4f25a359549b",
   "metadata": {},
   "outputs": [
    {
     "data": {
      "text/plain": [
       "array([[ 1,  2,  3,  4],\n",
       "       [ 5,  6,  7,  8],\n",
       "       [ 9, 10, 11, 12]])"
      ]
     },
     "execution_count": 72,
     "metadata": {},
     "output_type": "execute_result"
    }
   ],
   "source": [
    "A2=[[1, 2, 3, 4], [5, 6, 7, 8],[9, 10, 11, 12]]\n",
    "A2= np.array(A2)\n",
    "B2= [[1, 2, 3, 4] ,[5, 6, 7, 8],[9, 10, 11, 12]]\n",
    "B2= np.array(B2)\n",
    "A2 "
   ]
  },
  {
   "cell_type": "code",
   "execution_count": 73,
   "id": "003abb54-3fb5-463e-bbda-a39a15853e2e",
   "metadata": {},
   "outputs": [
    {
     "data": {
      "text/plain": [
       "array([[ 1,  2,  3,  4],\n",
       "       [ 5,  6,  7,  8],\n",
       "       [ 9, 10, 11, 12]])"
      ]
     },
     "execution_count": 73,
     "metadata": {},
     "output_type": "execute_result"
    }
   ],
   "source": [
    "B2"
   ]
  },
  {
   "cell_type": "code",
   "execution_count": 76,
   "id": "23817673-2e37-4388-a20b-1644f04d9dcf",
   "metadata": {},
   "outputs": [
    {
     "data": {
      "text/plain": [
       "(3, 4)"
      ]
     },
     "execution_count": 76,
     "metadata": {},
     "output_type": "execute_result"
    }
   ],
   "source": [
    "np.shape(A2)"
   ]
  },
  {
   "cell_type": "code",
   "execution_count": 77,
   "id": "e7e45a37-b14a-48ac-8aad-8b96a14f64f6",
   "metadata": {},
   "outputs": [
    {
     "data": {
      "text/plain": [
       "(3, 4)"
      ]
     },
     "execution_count": 77,
     "metadata": {},
     "output_type": "execute_result"
    }
   ],
   "source": [
    "np.shape(B2)"
   ]
  },
  {
   "cell_type": "code",
   "execution_count": 79,
   "id": "7e22ba7c-afb0-44f1-896a-ac904b8854e3",
   "metadata": {},
   "outputs": [
    {
     "data": {
      "text/plain": [
       "array([[  1,   4,   9,  16],\n",
       "       [ 25,  36,  49,  64],\n",
       "       [ 81, 100, 121, 144]])"
      ]
     },
     "execution_count": 79,
     "metadata": {},
     "output_type": "execute_result"
    }
   ],
   "source": [
    "A2 * B2 # index wise multiplication"
   ]
  },
  {
   "cell_type": "code",
   "execution_count": 84,
   "id": "a2bf1394-c831-4458-8635-2e40843e8432",
   "metadata": {},
   "outputs": [],
   "source": [
    "A3= np.reshape(B2,(4,3)) #     Matrix multiplication \n"
   ]
  },
  {
   "cell_type": "code",
   "execution_count": 85,
   "id": "183f4e1e-d006-4e38-a41c-a28e7bf2f226",
   "metadata": {},
   "outputs": [
    {
     "data": {
      "text/plain": [
       "array([[ 70,  80,  90],\n",
       "       [158, 184, 210],\n",
       "       [246, 288, 330]])"
      ]
     },
     "execution_count": 85,
     "metadata": {},
     "output_type": "execute_result"
    }
   ],
   "source": [
    "A2 @ A3"
   ]
  },
  {
   "cell_type": "code",
   "execution_count": 86,
   "id": "a41ac1a1-3a8f-4009-9651-9c40d42f12a8",
   "metadata": {},
   "outputs": [
    {
     "data": {
      "text/plain": [
       "array([[ 2,  4,  6,  8],\n",
       "       [10, 12, 14, 16],\n",
       "       [18, 20, 22, 24]])"
      ]
     },
     "execution_count": 86,
     "metadata": {},
     "output_type": "execute_result"
    }
   ],
   "source": [
    "A2 + B2                           # ADD the matrix"
   ]
  },
  {
   "cell_type": "code",
   "execution_count": 87,
   "id": "38e89f8e-2fe9-44e0-8866-61d6c412578d",
   "metadata": {},
   "outputs": [
    {
     "data": {
      "text/plain": [
       "array([[1., 1., 1., 1.],\n",
       "       [1., 1., 1., 1.],\n",
       "       [1., 1., 1., 1.]])"
      ]
     },
     "execution_count": 87,
     "metadata": {},
     "output_type": "execute_result"
    }
   ],
   "source": [
    "A2 / B2"
   ]
  },
  {
   "cell_type": "code",
   "execution_count": 89,
   "id": "c66403bc-5b9c-4459-9823-eabda1c437d6",
   "metadata": {},
   "outputs": [
    {
     "data": {
      "text/plain": [
       "array([[0, 0, 0, 0],\n",
       "       [0, 0, 0, 0],\n",
       "       [0, 0, 0, 0]])"
      ]
     },
     "execution_count": 89,
     "metadata": {},
     "output_type": "execute_result"
    }
   ],
   "source": [
    "A2 -B2"
   ]
  },
  {
   "cell_type": "code",
   "execution_count": 90,
   "id": "60f0c27a-d52b-4003-804c-43373faddcb6",
   "metadata": {},
   "outputs": [
    {
     "ename": "AttributeError",
     "evalue": "module 'numpy' has no attribute 'byteswap'",
     "output_type": "error",
     "traceback": [
      "\u001b[0;31m---------------------------------------------------------------------------\u001b[0m",
      "\u001b[0;31mAttributeError\u001b[0m                            Traceback (most recent call last)",
      "Cell \u001b[0;32mIn[90], line 2\u001b[0m\n\u001b[1;32m      1\u001b[0m \u001b[38;5;124;03m'''12. Which function in Numpy can be used to swap the byte order of an array?'''\u001b[39;00m\n\u001b[0;32m----> 2\u001b[0m Ans :\u001b[43mnp\u001b[49m\u001b[38;5;241;43m.\u001b[39;49m\u001b[43mbyteswap\u001b[49m()\n\u001b[1;32m      3\u001b[0m \u001b[38;5;66;03m#byte representation of the data\u001b[39;00m\n",
      "File \u001b[0;32m/opt/conda/lib/python3.10/site-packages/numpy/__init__.py:311\u001b[0m, in \u001b[0;36m__getattr__\u001b[0;34m(attr)\u001b[0m\n\u001b[1;32m    308\u001b[0m     \u001b[38;5;28;01mfrom\u001b[39;00m \u001b[38;5;21;01m.\u001b[39;00m\u001b[38;5;21;01mtesting\u001b[39;00m \u001b[38;5;28;01mimport\u001b[39;00m Tester\n\u001b[1;32m    309\u001b[0m     \u001b[38;5;28;01mreturn\u001b[39;00m Tester\n\u001b[0;32m--> 311\u001b[0m \u001b[38;5;28;01mraise\u001b[39;00m \u001b[38;5;167;01mAttributeError\u001b[39;00m(\u001b[38;5;124m\"\u001b[39m\u001b[38;5;124mmodule \u001b[39m\u001b[38;5;132;01m{!r}\u001b[39;00m\u001b[38;5;124m has no attribute \u001b[39m\u001b[38;5;124m\"\u001b[39m\n\u001b[1;32m    312\u001b[0m                      \u001b[38;5;124m\"\u001b[39m\u001b[38;5;132;01m{!r}\u001b[39;00m\u001b[38;5;124m\"\u001b[39m\u001b[38;5;241m.\u001b[39mformat(\u001b[38;5;18m__name__\u001b[39m, attr))\n",
      "\u001b[0;31mAttributeError\u001b[0m: module 'numpy' has no attribute 'byteswap'"
     ]
    }
   ],
   "source": [
    "'''12. Which function in Numpy can be used to swap the byte order of an array?'''\n",
    "'''Ans :np.byteswap()\n",
    "#byte representation of the data"
   ]
  },
  {
   "cell_type": "code",
   "execution_count": 91,
   "id": "4b54c970-8038-4469-b978-a88f0ba28853",
   "metadata": {},
   "outputs": [
    {
     "ename": "SyntaxError",
     "evalue": "incomplete input (420265349.py, line 1)",
     "output_type": "error",
     "traceback": [
      "\u001b[0;36m  Cell \u001b[0;32mIn[91], line 1\u001b[0;36m\u001b[0m\n\u001b[0;31m    '''13. What is the significance of the np.linalg.inv function?\u001b[0m\n\u001b[0m    ^\u001b[0m\n\u001b[0;31mSyntaxError\u001b[0m\u001b[0;31m:\u001b[0m incomplete input\n"
     ]
    }
   ],
   "source": [
    "'''13. What is the significance of the np.linalg.inv function?\n",
    "Ans :It will calculate the inverse of the matrix "
   ]
  },
  {
   "cell_type": "code",
   "execution_count": null,
   "id": "62034a3d-4d60-4018-8915-4127965c9107",
   "metadata": {},
   "outputs": [],
   "source": [
    "'''14. What does the np.reshape function do, and how is it used?\n",
    "Ans : It will change the shape of an array  without changing its data of an array.. when u want to change the shape ,the product of the dimension of the new shape will be equal to the product of the old dimension "
   ]
  },
  {
   "cell_type": "code",
   "execution_count": null,
   "id": "17ff5ad2-34a5-4bf4-af20-a0b0ad33e848",
   "metadata": {},
   "outputs": [],
   "source": [
    "'''15 what id broadcastiong in numpy'''\n",
    "Ans : Broadcasting will do some  operation on each of the element in the array  and it will broadcast  but there is some constraint that the smaller array is broadcast to larger array "
   ]
  },
  {
   "cell_type": "code",
   "execution_count": null,
   "id": "fb063878-abfd-460d-8d7b-c82c875a5d7c",
   "metadata": {},
   "outputs": [],
   "source": []
  },
  {
   "cell_type": "code",
   "execution_count": null,
   "id": "6e550e21-0906-4468-ab41-0e5469b3e1af",
   "metadata": {},
   "outputs": [],
   "source": []
  }
 ],
 "metadata": {
  "kernelspec": {
   "display_name": "Python 3 (ipykernel)",
   "language": "python",
   "name": "python3"
  },
  "language_info": {
   "codemirror_mode": {
    "name": "ipython",
    "version": 3
   },
   "file_extension": ".py",
   "mimetype": "text/x-python",
   "name": "python",
   "nbconvert_exporter": "python",
   "pygments_lexer": "ipython3",
   "version": "3.10.8"
  }
 },
 "nbformat": 4,
 "nbformat_minor": 5
}
